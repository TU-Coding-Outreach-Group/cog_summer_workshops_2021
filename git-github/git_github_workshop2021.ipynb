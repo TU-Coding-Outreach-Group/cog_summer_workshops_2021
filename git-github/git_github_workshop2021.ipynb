{
 "cells": [
  {
   "cell_type": "markdown",
   "metadata": {},
   "source": [
    "# Coding Outreach Group Summer Workshop\n",
    "# Git + GitHub\n",
    "06/10/2021\n",
    "\n",
    "__**Content creator:**__ [Elizabeth (Liz) Beard](https://github.com/elizabethbeard)\n",
    "\n",
    "__**Content reviewers:**__ John Erardi, Haroon Popal\n",
    "\n",
    "## Set Up & Prerequisites\n",
    "Be sure to check out the README for the workshop to make sure you've completed the following steps:\n",
    "1. Familiarized yourself with the unix shell and bash (see prerequisites)\n",
    "2. Installed git on your local computer\n",
    "3. Make a [GitHub](https://github.com/) account\n",
    "\n",
    "## Description\n",
    "This workshop introduces attendees to the basics of git and GitHub and why it is a useful tool for researchers. This course is largely based on materials from [Elizabeth DuPre](https://emdupre.github.io/git-course/) and [Software Carpentry](https://swcarpentry.github.io/git-novice/).\n",
    "\n",
    "## Outline\n",
    "| Topic | Time | Description |\n",
    "| --- | --- | --- |\n",
    "| Intro | Why do I need version control? What is git? What is GitHub? | 5 min |\n",
    "| Tutorial 1 | set up git, create a local repo, commit changes, add files to GitHub repo | 20 min |\n",
    "| Tutorial 2 | forking and cloning a repo, updating a local repo with changes from the remote repo, **BONUS**: pull requests | 25 min |\n",
    "| Examples | collaborating, open science, resource sharing, exposure | 5 min "
   ]
  },
  {
   "cell_type": "markdown",
   "metadata": {},
   "source": [
    "# Intro"
   ]
  },
  {
   "cell_type": "code",
   "execution_count": 2,
   "metadata": {},
   "outputs": [
    {
     "data": {
      "text/html": [
       "<iframe width=\"560\" height=\"315\" src=\"https://www.youtube.com/embed/QPxcARTtoZQ\" frameborder=\"0\" allowfullscreen></iframe>\n"
      ],
      "text/plain": [
       "<IPython.core.display.HTML object>"
      ]
     },
     "metadata": {},
     "output_type": "display_data"
    }
   ],
   "source": [
    "%%HTML\n",
    "<iframe width=\"560\" height=\"315\" src=\"https://www.youtube.com/embed/QPxcARTtoZQ\" frameborder=\"0\" allowfullscreen></iframe>"
   ]
  },
  {
   "cell_type": "markdown",
   "metadata": {},
   "source": [
    "# 1. Getting Started with git\n",
    "Version control in git is centered around a *repository* which holds your directories and files. For this workshop, we'll be using the command line interface or terminal to work with git. While there are other GUIs for using git, there are a number of benefits to using the command line:\n",
    "- you develop better understanding of how git commands work\n",
    "- you develop the ability to use git on any computer with bash or linux\n",
    "- learning various GUIs will be easier since you know the terminology \n",
    "\n",
    "## Setting up git on our local machine\n",
    "### Tell git who you are\n",
    "Git records information not only about the changes to files you make, but also *who* made those changes -- this makes it even more helpful for collaborating! For git to know who is making changes on this machine, we need to tell git about who we are.\n",
    "- *note*: be sure to use the same email address you used to create your GitHub account.\n",
    "\n",
    "``` bash\n",
    "git config --global user.name \"Your Name\"        # put quotation marks around your name\n",
    "git config --global user.email yourname@yourplace.edu\n",
    "```"
   ]
  },
  {
   "cell_type": "markdown",
   "metadata": {},
   "source": [
    "### Set a default editor\n",
    "When working with Git we will often need to provide some short but useful information. In order to enter this information, we need an editor. We’ll now tell Git which editor we want to be the default (i.e. the one that Git will bring by default whenever it wants us to provide some information).\n",
    "\n",
    "You can choose any editor available on your system. For this tutorial we'll be using nano (the default in mac and linux systems). There are lots of other text editors available, if you want to [check some out here](https://swcarpentry.github.io/git-novice/02-setup/index.html).\n",
    "\n",
    "``` bash\n",
    "git config --global core.editor \"nano -w\"\n",
    "```\n",
    "\n",
    "Great! Now let's check whether our settings were saved.\n",
    "- *note*: filenames that start with a '.' are generally invisible when exploring your folder structures -- even when you use `ls` in the command line! To look for these files in the command line, use `ls -a`. If you're using the finder on a mac, press `COMANND + SHIFT + .`."
   ]
  },
  {
   "cell_type": "code",
   "execution_count": 4,
   "metadata": {},
   "outputs": [
    {
     "name": "stdout",
     "output_type": "stream",
     "text": [
      "[filter \"lfs\"]\n",
      "\trequired = true\n",
      "\tclean = git-lfs clean -- %f\n",
      "\tsmudge = git-lfs smudge -- %f\n",
      "\tprocess = git-lfs filter-process\n",
      "[user]\n",
      "\tname = Liz Beard\n",
      "\temail = ecooperbeard@gmail.com\n",
      "[color]\n",
      "\tui = auto\n",
      "[core]\n",
      "\teditor = nano\n"
     ]
    }
   ],
   "source": [
    "cat ~/.gitconfig"
   ]
  },
  {
   "cell_type": "markdown",
   "metadata": {},
   "source": [
    "## Creating a local repository with git\n",
    "Let's create a local responsitory so you can track changes on your awesome new project that you want to see develop over time and maybe even turn into a library for others to use. But we're going to start simple, and create a README to help outline the project.\n",
    "\n",
    "First, let's create a directory for the project in our home directory:"
   ]
  },
  {
   "cell_type": "code",
   "execution_count": 5,
   "metadata": {},
   "outputs": [
    {
     "name": "stdout",
     "output_type": "stream",
     "text": [
      "/Users/lizbeard\n"
     ]
    }
   ],
   "source": [
    "cd\n",
    "pwd\n",
    "mkdir new-project\n",
    "cd new-project"
   ]
  },
  {
   "cell_type": "markdown",
   "metadata": {},
   "source": [
    "Now we need to tell git that this is a repository that we'd like to track. This is called \"initiating the repository."
   ]
  },
  {
   "cell_type": "code",
   "execution_count": 6,
   "metadata": {},
   "outputs": [
    {
     "name": "stdout",
     "output_type": "stream",
     "text": [
      "Initialized empty Git repository in /Users/lizbeard/new-project/.git/\n"
     ]
    }
   ],
   "source": [
    "git init"
   ]
  },
  {
   "cell_type": "markdown",
   "metadata": {},
   "source": [
    "If we look in this directory, we'll find a new invisible git directory. "
   ]
  },
  {
   "cell_type": "code",
   "execution_count": 8,
   "metadata": {},
   "outputs": [
    {
     "name": "stdout",
     "output_type": "stream",
     "text": [
      ".\t..\t.git\n"
     ]
    }
   ],
   "source": [
    "ls -a"
   ]
  },
  {
   "cell_type": "markdown",
   "metadata": {},
   "source": [
    "The `.git` directory contains git's configuration files. DO NOT delete this directory -- you'll delete all of the tracked information in your repository!"
   ]
  },
  {
   "cell_type": "markdown",
   "metadata": {},
   "source": [
    "## Tracking files with in your repo\n",
    "Now that we've initialized our repository, let's create our README and add our authors names and the project title.\n",
    "- *note*: You don't *have* to create/edit your text files using the command line, but we're going to for this workshop just to familiarize ourselves with it.\n",
    "\n",
    "``` bash\n",
    "nano README.md\n",
    "# add project title and authors\n",
    "```"
   ]
  },
  {
   "cell_type": "code",
   "execution_count": 9,
   "metadata": {},
   "outputs": [
    {
     "name": "stdout",
     "output_type": "stream",
     "text": [
      "On branch master\n",
      "\n",
      "No commits yet\n",
      "\n",
      "Untracked files:\n",
      "  (use \"git add <file>...\" to include in what will be committed)\n",
      "\n",
      "\t\u001b[31mREADME.md\u001b[m\n",
      "\n",
      "nothing added to commit but untracked files present (use \"git add\" to track)\n"
     ]
    }
   ],
   "source": [
    "git status"
   ]
  },
  {
   "cell_type": "markdown",
   "metadata": {},
   "source": [
    "Information about what git knows about the directory is displayed after running `git status`. We are on the `master` branch, which is the default branch for a repository. We're not going to cover branches in this workshop, but the resources listed on the workshop README discuss branches in depth.\n",
    "\n",
    "For now, it's what's important to realize is that our file is listed as *untracked*, which means it is in our working directory but git is not tracking it yet -- so no changes made to the file will be recorded by git!"
   ]
  },
  {
   "cell_type": "markdown",
   "metadata": {},
   "source": [
    "### Adding files to a git repo\n",
    "To tell git about the file, we'll use the `git add` command. This is used for two purposes: (1) to tell git that a file should be tracked and (2) to put the file into the git staging area. The staging area serves as a cache to store changes *before* you commit them to the repository. So you can add more files/changes before submitting them all under a single `commit`. For more about the 'staging area', see [this presentation by Stephanie DeCross](https://zenodo.org/record/3369466#.YL4cVDZKh24). "
   ]
  },
  {
   "cell_type": "code",
   "execution_count": 10,
   "metadata": {},
   "outputs": [
    {
     "name": "stdout",
     "output_type": "stream",
     "text": [
      "On branch master\n",
      "\n",
      "No commits yet\n",
      "\n",
      "Changes to be committed:\n",
      "  (use \"git rm --cached <file>...\" to unstage)\n",
      "\n",
      "\t\u001b[32mnew file:   README.md\u001b[m\n",
      "\n"
     ]
    }
   ],
   "source": [
    "git add README.md\n",
    "git status"
   ]
  },
  {
   "cell_type": "markdown",
   "metadata": {},
   "source": [
    "### Commit changes\n",
    "In order to tell git to record our changes (adding our new files) into the repository, we need to `commit` it.\n",
    "\n",
    "``` bash\n",
    "git commit\n",
    "# type a commit message: \"Add project title and authors\"\n",
    "# save the commit message and close your text editor\n",
    "```\n",
    "\n",
    "After we save our commit message and exit the editor, git will commit our file to the local repo. It will report the number of files changed and the number of lines inserted or deleted across all those files.\n",
    "\n",
    "Now if we look at the status of the repo:"
   ]
  },
  {
   "cell_type": "code",
   "execution_count": 11,
   "metadata": {},
   "outputs": [
    {
     "name": "stdout",
     "output_type": "stream",
     "text": [
      "On branch master\n",
      "nothing to commit, working tree clean\n"
     ]
    }
   ],
   "source": [
    "git status"
   ]
  },
  {
   "cell_type": "markdown",
   "metadata": {},
   "source": [
    "Our file is now in the local repository! There are other ways to commit changes as well. Here are a few:\n",
    "- `git commit -m \"Commit notes here\"` commits your changes and submits a message automatically. This tends to be faster than opening the text editor every time, and you generally want to leave sparse change notes.\n",
    "- `git commit -am \"Commit notes here\"` adds and commits all files that have been tracked and modified.\n",
    "\n",
    "For other commit options, check out the [git documentation](https://git-scm.com/docs/git-commit/en#_options).\n",
    "\n",
    "Additionally, you can also add entire directories to be tracked by adding the folder instead of just a file (e.g.`git add tools`, to track changes in a tools folder). "
   ]
  },
  {
   "cell_type": "markdown",
   "metadata": {},
   "source": [
    "## Remote repositories with GitHub\n",
    "We've started tracking changes on our own computer! That's great! But if you love iced coffee as much as I do you know that it's a huge risk to just keep things stored on a local machine. \n",
    "\n",
    "Let's set up a remote repository so that we can access our project from multiple locations. This way, we can share the repository with other collaborators easily!\n",
    "\n",
    "At this point, you should already have your GitHub account created.\n",
    "\n",
    "### Create a new repository\n",
    "Let's create an empty repository on github.\n",
    "- Log in to [GitHub](https://github.com/)\n",
    "- Click on the create icon (`+`) on the top right\n",
    "- Enter your repository name: \"new-project\"\n",
    "- For this exercise, let's keep the repository public\n",
    "- Since we'll be importing a local repository, make sure that the **Initialize this repository with a README** is ***UNselected***\n",
    "- Click `Create Repository`\n",
    "\n",
    "You'll be directed to a page with new information about your repository. We already have our local repository and will be *pushing* it to GitHub, so we can do the following.\n",
    "\n",
    "``` bash\n",
    "git remote add origin https://github.com/<USERNAME>/new-project.git\n",
    "\n",
    "```\n",
    "\n",
    "Now we can execute the following:"
   ]
  },
  {
   "cell_type": "code",
   "execution_count": 12,
   "metadata": {},
   "outputs": [
    {
     "name": "stdout",
     "output_type": "stream",
     "text": [
      "Counting objects: 3, done.\n",
      "Delta compression using up to 8 threads.\n",
      "Compressing objects: 100% (2/2), done.\n",
      "Writing objects: 100% (3/3), 283 bytes | 283.00 KiB/s, done.\n",
      "Total 3 (delta 0), reused 0 (delta 0)\n",
      "To https://github.com/elizabethbeard/new-project\n",
      " * [new branch]      master -> master\n",
      "Branch 'master' set up to track remote branch 'master' from 'origin'.\n"
     ]
    }
   ],
   "source": [
    "git push -u origin master"
   ]
  },
  {
   "cell_type": "markdown",
   "metadata": {},
   "source": [
    "This pushes our `master` branch to the remote repository (named via the alias `origin`) and creates a new `master` brance in the remote repository. If we look on the GitHub repo, we should see our code. If we click the `Commits` tab, should see a complete history of commits.\n",
    "\n",
    "Syncing to a remote repository adds a third step to our git procedure for tracking changes. Generally, adding changes and pushing them to the remote repo will follow these steps:\n",
    "1. `git add` to add tracked files and changes to the staging area\n",
    "2. `git commit` to push those changes from the staging area to a local repo\n",
    "3. `git push` to push those changes from the local repo to the remote repository\n",
    "\n",
    "Systems like git allow us to move work between any two repositories. In practice, though, it’s easiest to use one copy as a central hub, and to keep it on the web (like on GitHub) rather than on someone’s laptop.\n",
    "\n",
    "And there you have it! These are the basics of working with git for your own independent purposes. In the next section, let's learn a bit more about how to access and utilize *other* repositories on git and collaborate with them."
   ]
  },
  {
   "cell_type": "markdown",
   "metadata": {},
   "source": [
    "# 2. Utilizing Remote Repositories\n",
    "Version control really comes into its own when we begin to collaborate with other people. We already have most of the machinery we need to do this; the only thing missing is to copy changes from one repository to another.\n",
    "\n",
    "Oftentimes, you'll want to access someone else's remote repository to use for your own analyses or benefit. You won't necessarily have write access to the repository, but by forking the repo you'll be able to access the code on your own GitHub and local machine.\n",
    "\n",
    "In the bonus section, we'll review how to submit changes to a repository where you don't have access. GitHub provides a functionality called Pull Requests. Essentially, it’s “requesting the owner of the repository to pull in your contributions”. As the owner of a repository, you may or may not accept a pull request. But as a contributor, pull requests provide a path to engage with the community and contribute new tools and functions to different resources.\n",
    "\n",
    "Utilizing remote repos usually follow a similar process (see below for a visualization of the process):\n",
    "1. Find a reponsitory on GitHub that belongs to someon else\n",
    "2. Fork it on GitHub's servers into your own GitHub account\n",
    "3. `git clone` the repo to your local machine\n",
    "4. Make changes, and push them to your repository on GitHub\n",
    "5. **BONUS** Request that the owner of the repository you forked pulls in your changes\n",
    "\n",
    "\n",
    "<img src=\"images/github-fork-diagram.png\" width=500 height=500 />\n",
    "\n",
    "## Is it worth it? Lemme Fork It\n",
    "In today's tutorial, we're going to fork the summer workshop repo so that each week, you'll be able to pull the new material from the COG GitHub to your GitHub and onto your local machine. Ideally, this means no more clicking and downloading files -- we'll do this all through the command line and git.\n",
    "\n",
    "The first thing we need to do is fork the COG Summer Workshop Series repository to our own GitHub account.\n",
    "1. Go to the [COG Summer Workshop Series Repo](https://github.com/TU-Coding-Outreach-Group/cog_summer_workshops_2021).\n",
    "2. Click the **fork** button in the upper right hand corner.\n",
    "\n",
    "You should now be redirected to the cog_summer_workshops_2021 repo on your own GitHub page.\n",
    "\n",
    "## Attack of the clone\n",
    "To add the remote cog_summer_workshops_2021 repo from our GitHub onto our local machine, we'll use `git clone`.\n",
    "\n",
    "Start by making sure you're in the parent directory where you want the repo to be stored. I want to store this repo in my documents folder."
   ]
  },
  {
   "cell_type": "code",
   "execution_count": 13,
   "metadata": {},
   "outputs": [
    {
     "name": "stdout",
     "output_type": "stream",
     "text": [
      "/Users/lizbeard/new-project\n"
     ]
    }
   ],
   "source": [
    "pwd"
   ]
  },
  {
   "cell_type": "code",
   "execution_count": 14,
   "metadata": {},
   "outputs": [
    {
     "name": "stdout",
     "output_type": "stream",
     "text": [
      "/Users/lizbeard/Documents\n"
     ]
    }
   ],
   "source": [
    "cd ~/Documents\n",
    "pwd"
   ]
  },
  {
   "cell_type": "markdown",
   "metadata": {},
   "source": [
    "Now, we'll use `git clone` to copy the repository to our local machine. Be sure to copy the GitHub repo link the same way we did in Tutorial 1.\n",
    "\n",
    "Cloning creates an exact copy of the online repository. By default it creates a directory with the same name as the GitHub repository."
   ]
  },
  {
   "cell_type": "code",
   "execution_count": 15,
   "metadata": {},
   "outputs": [
    {
     "name": "stdout",
     "output_type": "stream",
     "text": [
      "Cloning into 'cog_summer_workshops_2021'...\n",
      "remote: Enumerating objects: 251, done.\u001b[K\n",
      "remote: Counting objects: 100% (251/251), done.\u001b[K\n",
      "remote: Compressing objects: 100% (193/193), done.\u001b[K\n",
      "remote: Total 251 (delta 133), reused 145 (delta 51), pack-reused 0\u001b[K\n",
      "Receiving objects: 100% (251/251), 11.23 MiB | 12.63 MiB/s, done.\n",
      "Resolving deltas: 100% (133/133), done.\n"
     ]
    }
   ],
   "source": [
    "git clone https://github.com/elizabethbeard/cog_summer_workshops_2021.git"
   ]
  },
  {
   "cell_type": "code",
   "execution_count": 19,
   "metadata": {},
   "outputs": [
    {
     "name": "stdout",
     "output_type": "stream",
     "text": [
      "/Users/lizbeard/Documents/cog_summer_workshops_2021\n",
      "LICENSE\t\t\tdesktop.ini\t\tlinux-owlsnest\n",
      "README.md\t\texcel-basics\t\tneuroimaging-in-python\n",
      "bids-heudiconv-fmriprep\tgit-github\t\tpsychopy\n",
      "data-visualization-in-r\tjupyter-notebook\trsa\n"
     ]
    }
   ],
   "source": [
    "cd cog_summer_workshops_2021\n",
    "pwd\n",
    "ls"
   ]
  },
  {
   "cell_type": "markdown",
   "metadata": {},
   "source": [
    "## Push It\n",
    "Now we can use our cloned repository just as if it were the original, local repository! Let's make some changes to our files and push these.  Let's say you wanted to add some notes from your git/github worksop to your remote repository.\n",
    "\n",
    "```bash\n",
    "cd git-github\n",
    "nano git-notes.txt\n",
    "# add some notes or some projects you think you could post on github\n",
    "git add git-note.txt\n",
    "git commit -m \"added workshop notes\"\n",
    "```"
   ]
  },
  {
   "cell_type": "markdown",
   "metadata": {},
   "source": [
    "Great! Now our changes are stored to our *local* repository. Let's send our changes back to the *remote* repository by `push`ing our changes.\n",
    "- *note*: you'll need to be in the repo directory to push these changes, **not** inside a subfolder!"
   ]
  },
  {
   "cell_type": "code",
   "execution_count": 26,
   "metadata": {},
   "outputs": [
    {
     "name": "stdout",
     "output_type": "stream",
     "text": [
      "/Users/lizbeard/Documents/cog_summer_workshops_2021\n",
      "Counting objects: 4, done.\n",
      "Delta compression using up to 8 threads.\n",
      "Compressing objects: 100% (4/4), done.\n",
      "Writing objects: 100% (4/4), 404 bytes | 404.00 KiB/s, done.\n",
      "Total 4 (delta 1), reused 0 (delta 0)\n",
      "remote: Resolving deltas: 100% (1/1), completed with 1 local object.\u001b[K\n",
      "To https://github.com/elizabethbeard/cog_summer_workshops_2021.git\n",
      "   725023f..eb6b3da  main -> main\n"
     ]
    }
   ],
   "source": [
    "pwd\n",
    "git push origin main"
   ]
  },
  {
   "cell_type": "markdown",
   "metadata": {},
   "source": [
    "You may notice that here, we're pushing to `main` instead of master. This is a [recent change](https://www.techrepublic.com/article/github-to-replace-master-with-main-starting-in-october-what-developers-need-to-know/) in git and GitHub in an effort to reduce unnecessary holdover references to slaver and replace them with more inclusive terms. Be sure to note the change whenever you're referencing tutorials written before October 2020.\n",
    "\n",
    "## Pulling changes from a remote repository\n",
    "We've already updated our `origin` repo (the repo on our personal GitHub). But let's say a week goes by, and we want to download the materials for Susan's PsychoPy workshop before next Thursday. To do this, we'll pull from the COG or `upstream` repo.\n",
    "\n",
    "Before we can pull from the COG repo into our local repo, we need to make sure that the two are connected."
   ]
  },
  {
   "cell_type": "code",
   "execution_count": 27,
   "metadata": {},
   "outputs": [
    {
     "name": "stdout",
     "output_type": "stream",
     "text": [
      "origin\thttps://github.com/elizabethbeard/cog_summer_workshops_2021.git (fetch)\n",
      "origin\thttps://github.com/elizabethbeard/cog_summer_workshops_2021.git (push)\n"
     ]
    }
   ],
   "source": [
    "git remote -v"
   ]
  },
  {
   "cell_type": "markdown",
   "metadata": {},
   "source": [
    "Here we can see that the the remote repos linked to our local machine are both from my personal GitHub. But we want to tell git that this repo needs to pull information from the COG GitHub. Let's tell git to make the [COG repo]() our `upstream`."
   ]
  },
  {
   "cell_type": "code",
   "execution_count": 29,
   "metadata": {},
   "outputs": [
    {
     "name": "stdout",
     "output_type": "stream",
     "text": [
      "fatal: remote upstream already exists.\n",
      "origin\thttps://github.com/elizabethbeard/cog_summer_workshops_2021.git (fetch)\n",
      "origin\thttps://github.com/elizabethbeard/cog_summer_workshops_2021.git (push)\n",
      "upstream\thttps://github.com/TU-Coding-Outreach-Group/cog_summer_workshops_2021 (fetch)\n",
      "upstream\thttps://github.com/TU-Coding-Outreach-Group/cog_summer_workshops_2021 (push)\n"
     ]
    }
   ],
   "source": [
    "git remote add upstream https://github.com/TU-Coding-Outreach-Group/cog_summer_workshops_2021\n",
    "git remote -v"
   ]
  },
  {
   "cell_type": "markdown",
   "metadata": {},
   "source": [
    "Now we see that git has *two* remote locations: our `origin` repository (the forked repo) and the `upstream` repository (the COG repo).\n",
    "\n",
    "To pull changes from the `upstream` repository to our `main` local repository, we can use the following:\n",
    "\n",
    "```bash\n",
    "git pull upstream main\n",
    "```\n",
    "\n",
    "BUT, this doesn't update your `origin` repo on your GitHub repository. To do that, you'll need to push those changes you've just pulled back to your `main` repo.\n",
    "\n",
    "```bash\n",
    "git push origin main\n",
    "```\n",
    "\n",
    "It's good to get in the habit of doing this *before* working on any code or projects, to avoid any potential change conflicts. For more info on conflicts in git, check out this [software carpentry page](https://swcarpentry.github.io/git-novice/09-conflict/index.html)."
   ]
  },
  {
   "cell_type": "markdown",
   "metadata": {},
   "source": [
    "## **BONUS**: Pull Requests ##\n",
    "Pull Requests are a great solution for contributing to repositories to which you don’t have write access. Remember, Pull Requests are essentially “requesting the owner of the repository to pull in your contributions”.\n",
    "\n",
    "For example, say you've found some typos in this repo and want to let Liz and Haroon know you've fixed them and they should too! To submit a Pull Request, follow these steps:\n",
    "1. Make any changes you want to contribute to the `upstream` repo, then `commit` and `push` them to your GitHub repository (`origin`). \n",
    "2. Go to your GitHub account and in the forked repository find the green button for creating Pull Requests. Click it and follow the instructions.\n",
    "<img src=\"images/github-pull_Request-screenshot.png\" width=700 height=400 />\n",
    "3. The owner(s) of the original repository will get a notification that someone created a pull request - the request can be reviewed, commented, and merged in (or not) via GitHub.\n",
    "\n",
    "Here is some advice from [Elizabeth DuPre for submitting Pull Requests](https://emdupre.github.io/git-course/06-pull-requests/):\n",
    ">- Keep your Pull Request small and focused (makes it easier to process!)\n",
    ">     - Submit one PR per issue\n",
    ">     - Create a separate branch for each issue you work on (you can submit a PR from any branch(\n",
    ">- Take advantage of available resources!\n",
    ">     - If the repository has contributing guidelines, read them!\n",
    ">     - Some repositories pre-populate the body of the PR or issue message with a template.\n",
    ">          - Follow the instructions and provide the information requested.\n",
    ">- Consider creating a new issue first to discuss your ideas before submitting a PR. Some repositories ask for this in their contributing guidelines, but this can be a good approach even if it isn't required, so that you know whether the owner agrees with your suggestion. They might also bring up ideas and/or challenges you haven't considered.\n",
    ">\n",
    ">Your PR may get merged just as it is. It’s very normal, too, for there to be some discussion (on GitHub) and a request for further edits to be made. Given that your pull request haven’t been merged get, you can make changes by adding further commits to your branch and pushing them. In either case, your PR will update automatically once you have pushed your commits."
   ]
  },
  {
   "cell_type": "markdown",
   "metadata": {},
   "source": [
    "# Implementations"
   ]
  },
  {
   "cell_type": "code",
   "execution_count": 1,
   "metadata": {},
   "outputs": [
    {
     "data": {
      "text/html": [
       "<iframe width=\"560\" height=\"315\" src=\"https://www.youtube.com/embed/w_iOjU53gbk\" frameborder=\"0\" allowfullscreen></iframe>\n"
      ],
      "text/plain": [
       "<IPython.core.display.HTML object>"
      ]
     },
     "metadata": {},
     "output_type": "display_data"
    }
   ],
   "source": [
    "%%HTML\n",
    "<iframe width=\"560\" height=\"315\" src=\"https://www.youtube.com/embed/w_iOjU53gbk\" frameborder=\"0\" allowfullscreen></iframe>"
   ]
  }
 ],
 "metadata": {
  "kernelspec": {
   "display_name": "Python 3",
   "language": "python",
   "name": "python3"
  },
  "language_info": {
   "codemirror_mode": {
    "name": "ipython",
    "version": 3
   },
   "file_extension": ".py",
   "mimetype": "text/x-python",
   "name": "python",
   "nbconvert_exporter": "python",
   "pygments_lexer": "ipython3",
   "version": "3.7.6"
  },
  "varInspector": {
   "cols": {
    "lenName": 16,
    "lenType": 16,
    "lenVar": 40
   },
   "kernels_config": {
    "python": {
     "delete_cmd_postfix": "",
     "delete_cmd_prefix": "del ",
     "library": "var_list.py",
     "varRefreshCmd": "print(var_dic_list())"
    },
    "r": {
     "delete_cmd_postfix": ") ",
     "delete_cmd_prefix": "rm(",
     "library": "var_list.r",
     "varRefreshCmd": "cat(var_dic_list()) "
    }
   },
   "types_to_exclude": [
    "module",
    "function",
    "builtin_function_or_method",
    "instance",
    "_Feature"
   ],
   "window_display": false
  }
 },
 "nbformat": 4,
 "nbformat_minor": 4
}
