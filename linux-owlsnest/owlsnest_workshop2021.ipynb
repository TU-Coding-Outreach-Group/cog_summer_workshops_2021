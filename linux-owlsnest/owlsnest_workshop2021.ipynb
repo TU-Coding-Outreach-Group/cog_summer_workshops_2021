{
 "cells": [
  {
   "cell_type": "markdown",
   "metadata": {},
   "source": [
    "# Coding Outreach Group Summer Workshop\n",
    "## Using Temple's Computing Cluster\n",
    "\n",
    "07/22/21\n",
    "\n",
    "Content Creator: Katie Jobson\n",
    "\n",
    "Content Editor:\n",
    "\n",
    "## Description\n",
    "\n",
    "This workshop will be an introduction to Temple University's Linux-based computing cluster, OwlsNest. Computing clusters are ideal for those who need to process large amounts of data, as those working with neuroimaging data often do.\n",
    "\n",
    "We will use your newly aquired knowledge on Linux Machines and apply that to using OwlsNest.\n",
    "\n",
    "## Prerequisites\n",
    "\n",
    "1. Basic knowledge of bash scripting\n",
    "2. An OwlsNest account\n",
    "\n",
    "\n",
    "## To-do Before the Workshop\n",
    "\n",
    "1. Apply for an OwlsNest account with the High Performance Computing team here\n",
    "\n",
    "## Workshop Objectives:\n",
    "\n",
    "1. Learn how to log on and navigate OwlsNest\n",
    "2. Review how to setup a script to be submitted to the cluster\n",
    "3. Learn how to submit that script to the cluster and monitor jobs"
   ]
  },
  {
   "cell_type": "markdown",
   "metadata": {},
   "source": [
    "# Intro"
   ]
  },
  {
   "cell_type": "code",
   "execution_count": null,
   "metadata": {},
   "outputs": [],
   "source": [
    "from IPython.display import HTML\n",
    "HTML('<iframe width=\"560\" height=\"315\" src=\"https://www.youtube.com/embed/d5RUUOYMYEg;controls=0&amp;showinfo=0\" frameborder=\"0\" allowfullscreen></iframe>')"
   ]
  },
  {
   "cell_type": "markdown",
   "metadata": {},
   "source": [
    "# Linux Computers"
   ]
  },
  {
   "cell_type": "markdown",
   "metadata": {},
   "source": [
    "## What is a \"linux\"?"
   ]
  },
  {
   "cell_type": "markdown",
   "metadata": {},
   "source": [
    "## Why use a linux?"
   ]
  },
  {
   "cell_type": "markdown",
   "metadata": {},
   "source": [
    "## How to use a linux"
   ]
  },
  {
   "cell_type": "markdown",
   "metadata": {},
   "source": [
    "## Suggested practices"
   ]
  },
  {
   "cell_type": "markdown",
   "metadata": {},
   "source": [
    "# High Performance Computing - Owlsnest"
   ]
  },
  {
   "cell_type": "markdown",
   "metadata": {},
   "source": [
    "## I. Logging In\n",
    "\n",
    "Recap logging in since it is similar to how you login to a linux at Temple"
   ]
  },
  {
   "cell_type": "markdown",
   "metadata": {},
   "source": [
    "### Exercise 1: Log into your OwlsNest account"
   ]
  },
  {
   "cell_type": "markdown",
   "metadata": {},
   "source": [
    "## II. Directory Structure on Owlsnest\n",
    "\n",
    "Explain the differences between /work and /home, how to structure things, etc."
   ]
  },
  {
   "cell_type": "markdown",
   "metadata": {},
   "source": [
    "### Exercise 2: Create a study directory in /home and /work\n",
    "\n",
    "mkdir /home/tuid/studyname\n",
    "mkdir /home/tuid/work/studyname"
   ]
  },
  {
   "cell_type": "markdown",
   "metadata": {},
   "source": [
    "## III. Setup a Script on OwlsNest"
   ]
  },
  {
   "cell_type": "code",
   "execution_count": null,
   "metadata": {},
   "outputs": [],
   "source": [
    "#!/bin/sh or #!/bin/python3\n",
    "#PBS -n your_script_name\n",
    "#PBS -l walltime=1:00:00\n",
    "#PBS -q normal\n",
    "#PBS -l nodes=1:ppn=1\n",
    "#PBS -n bae\n",
    "#PBS -M tuid@temple.edu\n",
    "#PBS -v subjects=\"5000\"\n",
    "cd $PBS_O_WORKDIR"
   ]
  },
  {
   "cell_type": "code",
   "execution_count": null,
   "metadata": {},
   "outputs": [],
   "source": [
    "module load matlab\n",
    "module load fsl/6.0.2\n",
    "module avail"
   ]
  },
  {
   "cell_type": "code",
   "execution_count": null,
   "metadata": {},
   "outputs": [],
   "source": [
    "torque-launch/task-launch"
   ]
  },
  {
   "cell_type": "markdown",
   "metadata": {},
   "source": [
    "### Exercise 3: Setup a script for an analysis you would run"
   ]
  },
  {
   "cell_type": "markdown",
   "metadata": {},
   "source": [
    "## IV. Submitting Scripts to the Cluster\n",
    "\n",
    "qsub\n",
    "\n",
    "qstat\n",
    "\n",
    "Troubleshooting?"
   ]
  },
  {
   "cell_type": "markdown",
   "metadata": {},
   "source": [
    "### Exercise 4: Requesting resources\n",
    "Example problem where you need to run a script for 10 subjects. Two tasks need be done for each subject, and each task takes 10 hours per 8 cores. How many cores and time should you request?"
   ]
  },
  {
   "cell_type": "markdown",
   "metadata": {},
   "source": [
    "# Outro"
   ]
  }
 ],
 "metadata": {
  "kernelspec": {
   "display_name": "Python 3",
   "language": "python",
   "name": "python3"
  },
  "language_info": {
   "codemirror_mode": {
    "name": "ipython",
    "version": 3
   },
   "file_extension": ".py",
   "mimetype": "text/x-python",
   "name": "python",
   "nbconvert_exporter": "python",
   "pygments_lexer": "ipython3",
   "version": "3.8.3"
  }
 },
 "nbformat": 4,
 "nbformat_minor": 4
}
